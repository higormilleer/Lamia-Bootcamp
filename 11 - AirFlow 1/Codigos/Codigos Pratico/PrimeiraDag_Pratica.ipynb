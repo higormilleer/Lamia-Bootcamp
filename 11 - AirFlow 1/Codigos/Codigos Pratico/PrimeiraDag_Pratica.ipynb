{
 "cells": [
  {
   "cell_type": "code",
   "execution_count": null,
   "id": "8459ce55-c437-4176-88c0-ccda2f64c564",
   "metadata": {},
   "outputs": [],
   "source": [
    "from datetime import datetime, timedelta\n",
    "from airflow import DAG\n",
    "from airflow.operators.bash import BashOperator"
   ]
  },
  {
   "cell_type": "code",
   "execution_count": null,
   "id": "5115b859-67b3-44c2-9b0d-e82f5d57ae4e",
   "metadata": {},
   "outputs": [],
   "source": [
    "# Definir os argumentos padrão\n",
    "default_arguments = {  # Configuração padrão para todas as tarefas\n",
    "    'owner': 'admin',  # Responsável pela DAG\n",
    "    'depends_on_past': False,  # Tarefas não dependem de execuções anteriores\n",
    "    'email_on_failure': False,  # Não envia email em caso de falha\n",
    "    'email_on_retry': False,  # Não envia email em caso de tentativa\n",
    "    'retries': 2,  # Número de tentativas em caso de falha\n",
    "    'retry_delay': timedelta(minutes=10),  # Tempo entre as tentativas\n"
   ]
  },
  {
   "cell_type": "code",
   "execution_count": null,
   "id": "fc3579ea-842c-4358-8ef3-4e92550ac883",
   "metadata": {},
   "outputs": [],
   "source": [
    "# Criar a DAG\n",
    "with DAG(\n",
    "    dag_id='example_dag',  # Nome único da DAG\n",
    "    default_args=default_arguments,  # Argumentos padrão para as tarefas\n",
    "    description='Exemplo de uma DAG no Airflow',  # Breve descrição\n",
    "    schedule_interval=timedelta(days=1),  # Intervalo entre execuções (diário)\n",
    "    start_date=datetime(2023, 11, 1),  # Data de início da DAG\n",
    "    catchup=False,  # Não executa execuções pendentes\n",
    "    tags=['teste'],  # Tags para categorizar a DAG\n",
    ") as workflow:\n",
    "\n",
    "    # Definir as tarefas\n",
    "    step1 = BashOperator(  # Primeira tarefa: exibe a data atual\n",
    "        task_id='get_current_date',  # Nome único da tarefa\n",
    "        bash_command='date',  # Comando Bash para exibir a data\n",
    "    )\n",
    "\n",
    "    step2 = BashOperator(  # Segunda tarefa: exibe uma mensagem no terminal\n",
    "        task_id='greet_user',  # Nome único da tarefa\n",
    "        bash_command='echo \"Bem-vindo ao Airflow!\"',  # Comando Bash para exibir mensagem\n",
    "    )\n",
    "\n",
    "    # Configurar a ordem de execução\n",
    "    step1 >> step2  # step1 deve ser concluída antes de step2"
   ]
  }
 ],
 "metadata": {
  "kernelspec": {
   "display_name": "Python [conda env:base] *",
   "language": "python",
   "name": "conda-base-py"
  },
  "language_info": {
   "codemirror_mode": {
    "name": "ipython",
    "version": 3
   },
   "file_extension": ".py",
   "mimetype": "text/x-python",
   "name": "python",
   "nbconvert_exporter": "python",
   "pygments_lexer": "ipython3",
   "version": "3.12.7"
  }
 },
 "nbformat": 4,
 "nbformat_minor": 5
}

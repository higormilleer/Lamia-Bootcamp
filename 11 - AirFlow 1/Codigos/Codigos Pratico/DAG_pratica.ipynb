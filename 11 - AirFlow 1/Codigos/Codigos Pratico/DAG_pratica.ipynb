{
 "cells": [
  {
   "cell_type": "code",
   "execution_count": null,
   "id": "1d3bc366-57af-4e43-bbb6-58b8e6dcd1a4",
   "metadata": {},
   "outputs": [],
   "source": [
    "from datetime import datetime, timedelta\n",
    "from airflow import DAG\n",
    "from airflow.operators.python import PythonOperator\n",
    "from airflow.operators.dummy import DummyOperator"
   ]
  },
  {
   "cell_type": "code",
   "execution_count": null,
   "id": "29d76dc0-26e7-4868-ba10-37f804a4afd4",
   "metadata": {},
   "outputs": [],
   "source": [
    "# Função para criar um arquivo\n",
    "def criar_arquivo():\n",
    "    with open('/tmp/arquivo_criado.txt', 'w') as f:  # Cria um arquivo na pasta temporária\n",
    "        f.write('Este é um arquivo criado pelo Airflow.\\n')  # Escreve conteúdo no arquivo\n",
    "    print('Arquivo criado em /tmp/arquivo_criado.txt')  # Exibe mensagem de conclusão\n"
   ]
  },
  {
   "cell_type": "code",
   "execution_count": null,
   "id": "acb0cab6-e737-45f4-860b-c7aa41055c33",
   "metadata": {},
   "outputs": [],
   "source": [
    "# Função para validar o arquivo\n",
    "def validar_arquivo():\n",
    "    try:\n",
    "        with open('/tmp/arquivo_criado.txt', 'r') as f:  # Abre o arquivo criado\n",
    "            conteudo = f.read()  # Lê o conteúdo do arquivo\n",
    "        if 'Airflow' in conteudo:  # Verifica se \"Airflow\" está no conteúdo\n",
    "            print('Validação bem-sucedida: o arquivo contém \"Airflow\".')  # Mensagem de sucesso\n",
    "        else:\n",
    "            raise ValueError('Erro: \"Airflow\" não encontrado no arquivo.')  # Lança erro\n",
    "    except FileNotFoundError:\n",
    "        raise FileNotFoundError('Erro: Arquivo não encontrado.')  # Lança erro se o arquivo não existir"
   ]
  },
  {
   "cell_type": "code",
   "execution_count": null,
   "id": "11285f70-54e0-4203-90a8-ee0f665101f8",
   "metadata": {},
   "outputs": [],
   "source": [
    "# Função para finalizar a execução\n",
    "def finalizar_processo():\n",
    "    print('Processo finalizado com sucesso!')  # Exibe mensagem ao concluir o processo"
   ]
  },
  {
   "cell_type": "code",
   "execution_count": null,
   "id": "9cb2c2fa-2fd7-4e58-a5ec-873cb5639bf6",
   "metadata": {},
   "outputs": [],
   "source": [
    "# Configuração da DAG\n",
    "default_args = {\n",
    "    'owner': 'admin',  # Proprietário da DAG\n",
    "    'depends_on_past': False,  # Execuções não dependem de execuções anteriores\n",
    "    'email_on_failure': False,  # Não envia email em caso de falha\n",
    "    'email_on_retry': False,  # Não envia email em caso de reexecução\n",
    "    'retries': 2,  # Tenta executar a tarefa até 2 vezes em caso de falha\n",
    "    'retry_delay': timedelta(minutes=5),  # Intervalo de 5 minutos entre as tentativas\n",
    "}"
   ]
  },
  {
   "cell_type": "code",
   "execution_count": null,
   "id": "168b7c54-efef-446f-9c07-cf80d35727fd",
   "metadata": {},
   "outputs": [],
   "source": [
    "with DAG(\n",
    "    'projeto_exemplo_dag',  # Nome único da DAG\n",
    "    default_args=default_args,  # Argumentos padrão para as tarefas\n",
    "    description='Exemplo de DAG para projeto básico no Airflow',  # Descrição da DAG\n",
    "    schedule_interval=None,  # DAG executada manualmente\n",
    "    start_date=datetime(2023, 12, 1),  # Data de início da DAG\n",
    "    catchup=False,  # Não executa execuções pendentes\n",
    "    tags=['projeto', 'exemplo'],  # Tags para categorizar a DAG\n",
    ") as dag:\n",
    "\n",
    "    inicio = DummyOperator(task_id='inicio')  # Tarefa de início sem lógica\n",
    "\n",
    "    criar_arquivo_tarefa = PythonOperator(\n",
    "        task_id='criar_arquivo',  # Nome único da tarefa\n",
    "        python_callable=criar_arquivo,  # Função a ser executada\n",
    "    )\n",
    "\n",
    "    validar_arquivo_tarefa = PythonOperator(\n",
    "        task_id='validar_arquivo',  # Nome único da tarefa\n",
    "        python_callable=validar_arquivo,  # Função a ser executada\n",
    "    )\n",
    "\n",
    "    finalizar = PythonOperator(\n",
    "        task_id='finalizar_processo',  # Nome único da tarefa\n",
    "        python_callable=finalizar_processo,  # Função a ser executada\n",
    "    )\n",
    "\n",
    "    # Configuração da ordem das tarefas\n",
    "    inicio >> criar_arquivo_tarefa >> validar_arquivo_tarefa >> finalizar  # Ordem de execução\n"
   ]
  }
 ],
 "metadata": {
  "kernelspec": {
   "display_name": "Python [conda env:base] *",
   "language": "python",
   "name": "conda-base-py"
  },
  "language_info": {
   "codemirror_mode": {
    "name": "ipython",
    "version": 3
   },
   "file_extension": ".py",
   "mimetype": "text/x-python",
   "name": "python",
   "nbconvert_exporter": "python",
   "pygments_lexer": "ipython3",
   "version": "3.12.7"
  }
 },
 "nbformat": 4,
 "nbformat_minor": 5
}
